{
  "nbformat": 4,
  "nbformat_minor": 0,
  "metadata": {
    "colab": {
      "provenance": [],
      "include_colab_link": true
    },
    "kernelspec": {
      "name": "python3",
      "display_name": "Python 3"
    },
    "language_info": {
      "name": "python"
    }
  },
  "cells": [
    {
      "cell_type": "markdown",
      "metadata": {
        "id": "view-in-github",
        "colab_type": "text"
      },
      "source": [
        "<a href=\"https://colab.research.google.com/github/kavyajeetbora/foursquare_ai/blob/master/notebooks/08_semantic_search_for_categories.ipynb\" target=\"_parent\"><img src=\"https://colab.research.google.com/assets/colab-badge.svg\" alt=\"Open In Colab\"/></a>"
      ]
    },
    {
      "cell_type": "markdown",
      "source": [
        "## Setup the Python Environment"
      ],
      "metadata": {
        "id": "89XdE0RGkQfo"
      }
    },
    {
      "cell_type": "code",
      "execution_count": null,
      "metadata": {
        "id": "Fs4zr46SQDV9"
      },
      "outputs": [],
      "source": [
        "!pip install --quiet duckdb jupysql duckdb-engine\n",
        "## Langchain Framework\n",
        "!pip install --quiet langchain langchain-community langchain-openai langgraph \"langchain[openai]\" sentence-transformers randomname chromadb"
      ]
    },
    {
      "cell_type": "code",
      "source": [
        "from sentence_transformers import SentenceTransformer\n",
        "\n",
        "# 1. Load a pretrained Sentence Transformer model\n",
        "model = SentenceTransformer(\"all-MiniLM-L6-v2\")"
      ],
      "metadata": {
        "id": "dKyUZq0aelfz"
      },
      "execution_count": null,
      "outputs": []
    },
    {
      "cell_type": "code",
      "source": [
        "from langchain.vectorstores import Chroma\n",
        "from langchain.embeddings.base import Embeddings\n",
        "import duckdb\n",
        "import os, glob,shutil\n",
        "import randomname"
      ],
      "metadata": {
        "id": "JYPm8g5Agtya"
      },
      "execution_count": null,
      "outputs": []
    },
    {
      "cell_type": "markdown",
      "source": [
        "## Distinct Categories"
      ],
      "metadata": {
        "id": "Quz2u87Fg1BA"
      }
    },
    {
      "cell_type": "code",
      "source": [
        "# Initialize DuckDB connection\n",
        "con = duckdb.connect()\n",
        "\n",
        "# Load required extensions\n",
        "con.execute(\"INSTALL httpfs; LOAD httpfs; INSTALL spatial; LOAD spatial;\")\n",
        "\n",
        "s3_places_path = 's3://fsq-os-places-us-east-1/release/dt=2025-09-09/places/parquet/places-*.zstd.parquet'\n",
        "\n",
        "# Execute the SELECT query and create a view\n",
        "result = con.execute(f\"\"\"\n",
        "  SELECT\n",
        "      UNNEST(fsq_category_labels) as category\n",
        "  FROM read_parquet('{s3_places_path}') WHERE country='IN';\n",
        "\"\"\").df()\n",
        "\n",
        "con.close()\n",
        "\n",
        "display(result)"
      ],
      "metadata": {
        "id": "Ne3PGZIjep2v"
      },
      "execution_count": null,
      "outputs": []
    },
    {
      "cell_type": "code",
      "source": [
        "# Using the MiniLM model from Sentence Transformers\n",
        "embedding_model = SentenceTransformer('all-MiniLM-L6-v2')\n",
        "\n",
        "# Get the list of documents (each row)\n",
        "documents = result['category'].tolist()\n",
        "\n",
        "# Create embeddings (each sentence -> vector)\n",
        "embeddings = embedding_model.encode(documents, convert_to_tensor=False)\n",
        "\n",
        "\n",
        "## Now Store the Embeddings in Vector Store\n",
        "os.makedirs(\"db\", exist_ok=True)\n",
        "\n",
        "random_suffix = randomname.get_name()\n",
        "\n",
        "persistent_directory = f\"db/chroma-({random_suffix})\"\n",
        "\n",
        "## If already there, delete and create a new one\n",
        "for folder in glob(\"db/chroma*\"):\n",
        "    if os.path.exists(folder):\n",
        "        shutil.rmtree(folder)\n",
        "\n",
        "os.mkdir(persistent_directory)\n",
        "\n",
        "# Create ChromaDB vector store (in-memory example)\n",
        "vector_db = Chroma.from_documents(\n",
        "    documents = documents,\n",
        "    collection_name = \"poi_category_embeddings\",\n",
        "    embedding = embeddings,\n",
        "    persist_directory = persistent_directory\n",
        ")"
      ],
      "metadata": {
        "id": "jqqcCeuah-tD"
      },
      "execution_count": null,
      "outputs": []
    }
  ]
}