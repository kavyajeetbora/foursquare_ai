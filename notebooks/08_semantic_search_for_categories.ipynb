{
  "nbformat": 4,
  "nbformat_minor": 0,
  "metadata": {
    "colab": {
      "provenance": [],
      "include_colab_link": true
    },
    "kernelspec": {
      "name": "python3",
      "display_name": "Python 3"
    },
    "language_info": {
      "name": "python"
    }
  },
  "cells": [
    {
      "cell_type": "markdown",
      "metadata": {
        "id": "view-in-github",
        "colab_type": "text"
      },
      "source": [
        "<a href=\"https://colab.research.google.com/github/kavyajeetbora/foursquare_ai/blob/master/notebooks/08_semantic_search_for_categories.ipynb\" target=\"_parent\"><img src=\"https://colab.research.google.com/assets/colab-badge.svg\" alt=\"Open In Colab\"/></a>"
      ]
    },
    {
      "cell_type": "markdown",
      "source": [
        "## Setup the Python Environment"
      ],
      "metadata": {
        "id": "89XdE0RGkQfo"
      }
    },
    {
      "cell_type": "code",
      "execution_count": null,
      "metadata": {
        "id": "Fs4zr46SQDV9"
      },
      "outputs": [],
      "source": [
        "!pip install --quiet duckdb jupysql duckdb-engine\n",
        "## Langchain Framework\n",
        "!pip install --quiet langchain langchain-community langchain-openai langgraph \"langchain[openai]\" randomname chromadb langchain-huggingface"
      ]
    },
    {
      "cell_type": "code",
      "source": [
        "import duckdb\n",
        "import os,shutil\n",
        "import randomname\n",
        "from glob import glob\n",
        "\n",
        "from langchain.vectorstores import Chroma\n",
        "from langchain_huggingface import HuggingFaceEmbeddings\n",
        "from langchain_core.documents import Document\n",
        "\n",
        "from dotenv import load_dotenv\n",
        "# Load environment variables from the .env file (if present)\n",
        "load_dotenv()"
      ],
      "metadata": {
        "id": "JYPm8g5Agtya"
      },
      "execution_count": null,
      "outputs": []
    },
    {
      "cell_type": "markdown",
      "source": [
        "## Distinct Categories"
      ],
      "metadata": {
        "id": "Quz2u87Fg1BA"
      }
    },
    {
      "cell_type": "code",
      "source": [
        "# Initialize DuckDB connection\n",
        "con = duckdb.connect()\n",
        "\n",
        "# Load required extensions\n",
        "con.execute(\"INSTALL httpfs; LOAD httpfs; INSTALL spatial; LOAD spatial;\")\n",
        "\n",
        "s3_places_path = 's3://fsq-os-places-us-east-1/release/dt=2025-09-09/places/parquet/places-*.zstd.parquet'\n",
        "\n",
        "# Execute the SELECT query and create a view\n",
        "result = con.execute(f\"\"\"\n",
        "  SELECT\n",
        "     DISTINCT UNNEST(fsq_category_labels) as category\n",
        "  FROM read_parquet('{s3_places_path}') WHERE country='IN';\n",
        "\"\"\").df()\n",
        "\n",
        "con.close()\n",
        "\n",
        "display(result)"
      ],
      "metadata": {
        "id": "Ne3PGZIjep2v"
      },
      "execution_count": null,
      "outputs": []
    },
    {
      "cell_type": "markdown",
      "source": [
        "## Embedding the Documents"
      ],
      "metadata": {
        "id": "Lg3KTln1Pzfd"
      }
    },
    {
      "cell_type": "markdown",
      "source": [
        "### Choose the embedding model"
      ],
      "metadata": {
        "id": "Ac0kDhMlTP31"
      }
    },
    {
      "cell_type": "code",
      "source": [
        "embeddings = HuggingFaceEmbeddings(model_name=\"Qwen/Qwen3-Embedding-0.6B\")"
      ],
      "metadata": {
        "id": "WYhceR0ETFZO"
      },
      "execution_count": null,
      "outputs": []
    },
    {
      "cell_type": "markdown",
      "source": [
        "### Create Document Objects"
      ],
      "metadata": {
        "id": "Xk8uaF9NTNH5"
      }
    },
    {
      "cell_type": "code",
      "source": [
        "## First Create documents\n",
        "categories = result['category'].drop_duplicates().tolist()\n",
        "\n",
        "documents = [\n",
        "        Document(\n",
        "            page_content=cat, metadata={\"category_id\": i, \"source\": \"foursquare poi\"}\n",
        "        ) for i,cat in enumerate(categories)\n",
        "    ]"
      ],
      "metadata": {
        "id": "MGvuADVOSlBF"
      },
      "execution_count": null,
      "outputs": []
    },
    {
      "cell_type": "markdown",
      "source": [
        "### Create the Vector Store (Local)"
      ],
      "metadata": {
        "id": "ke9L62k8TKI9"
      }
    },
    {
      "cell_type": "code",
      "source": [
        "## Now Store the Embeddings in Vector Store\n",
        "os.makedirs(\"db\", exist_ok=True)\n",
        "\n",
        "random_suffix = randomname.get_name()\n",
        "\n",
        "persistent_directory = f\"db/chroma-({random_suffix})\"\n",
        "\n",
        "## If already there, delete and create a new one\n",
        "for folder in glob(\"db/chroma*\"):\n",
        "    if os.path.exists(folder):\n",
        "        shutil.rmtree(folder)\n",
        "\n",
        "os.mkdir(persistent_directory)\n",
        "\n",
        "vector_db = Chroma.from_documents(\n",
        "    documents=documents,\n",
        "    collection_name=\"poi_category_embeddings\",\n",
        "    embedding=embeddings,  # Now LangChain-compatible!\n",
        "    persist_directory=persistent_directory\n",
        ")"
      ],
      "metadata": {
        "id": "K6R8pAl2HQY4"
      },
      "execution_count": null,
      "outputs": []
    },
    {
      "cell_type": "markdown",
      "source": [
        "## Retrieve Categories by Keyword"
      ],
      "metadata": {
        "id": "zWy-XHQdmAR6"
      }
    },
    {
      "cell_type": "code",
      "source": [
        "vector_db"
      ],
      "metadata": {
        "id": "tVl2Tx6UapBn"
      },
      "execution_count": null,
      "outputs": []
    },
    {
      "cell_type": "code",
      "source": [
        "retriever = vector_db.as_retriever(similarity_score_threshold=0.6)  # Top 3 similar categories"
      ],
      "metadata": {
        "id": "3LhMS43GmJjH"
      },
      "execution_count": null,
      "outputs": []
    },
    {
      "cell_type": "code",
      "source": [
        "# Test semantic search\n",
        "query = \"Find restaurants where I can find delicious Ice Cream?\"  # User might say this for POIs\n",
        "relevant_docs = retriever.get_relevant_documents(query)\n",
        "for doc in relevant_docs:\n",
        "  print(doc.metadata['category_id'], \"|\", doc.page_content)"
      ],
      "metadata": {
        "id": "sOLck2UqQLVR"
      },
      "execution_count": null,
      "outputs": []
    }
  ]
}