{
  "cells": [
    {
      "cell_type": "markdown",
      "metadata": {
        "id": "view-in-github",
        "colab_type": "text"
      },
      "source": [
        "<a href=\"https://colab.research.google.com/github/kavyajeetbora/foursquare_ai/blob/master/notebooks/05_sql_qa.ipynb\" target=\"_parent\"><img src=\"https://colab.research.google.com/assets/colab-badge.svg\" alt=\"Open In Colab\"/></a>"
      ]
    },
    {
      "cell_type": "markdown",
      "metadata": {
        "id": "npb4gTelcmKU"
      },
      "source": [
        "# Build a Question/Answering system over SQL data\n",
        "\n",
        "[REFERENCE](https://python.langchain.com/docs/tutorials/sql_qa/)\n",
        "\n",
        "\n",
        "## Architecture\n",
        "\n",
        "At a high-level, the steps of these systems are:\n",
        "\n",
        "1. **Convert question to SQL query**: Model converts user input to a SQL query.\n",
        "2. **Execute SQL query**: Execute the query.\n",
        "3. **Answer the question**: Model responds to user input using the query results.\n",
        "\n",
        "Note that querying data in CSVs can follow a similar approach. See our [how-to guide](/docs/how_to/sql_csv) on question-answering over CSV data for more detail.\n",
        "\n",
        "![sql_usecase.png](https://github.com/langchain-ai/langchain/blob/master/docs/static/img/sql_usecase.png?raw=1)\n",
        "\n",
        "## Setup\n",
        "\n",
        "First, get required packages and set environment variables:"
      ]
    },
    {
      "cell_type": "code",
      "execution_count": 1,
      "metadata": {
        "id": "xjdfSEqWcmKZ"
      },
      "outputs": [],
      "source": [
        "%%capture --no-stderr\n",
        "%pip install --upgrade --quiet langchain-community langgraph langchain_openai\n",
        "\n",
        "## Download the sql file that will be used to create the Database\n",
        "!wget  https://raw.githubusercontent.com/lerocha/chinook-database/master/ChinookDatabase/DataSources/Chinook_Sqlite.sql -O Chinook_Sqlite.sql"
      ]
    },
    {
      "cell_type": "markdown",
      "source": [
        "## Create the Database"
      ],
      "metadata": {
        "id": "2ksYpeZcfUDp"
      }
    },
    {
      "cell_type": "code",
      "source": [
        "import sqlite3\n",
        "\n",
        "# Name your database file\n",
        "db_path = \"Chinook.db\"\n",
        "\n",
        "# Connect (will create file if it doesn't exist)\n",
        "conn = sqlite3.connect(db_path)\n",
        "\n",
        "# Read your .sql file\n",
        "with open(\"Chinook_Sqlite.sql\", \"r\") as f:  # replace with your uploaded file name\n",
        "    sql_script = f.read()\n",
        "\n",
        "# Execute the entire SQL script at once\n",
        "conn.executescript(sql_script)\n",
        "\n",
        "# Commit & close\n",
        "conn.commit()\n",
        "conn.close()\n",
        "\n",
        "print(\"Database created at\", db_path)"
      ],
      "metadata": {
        "colab": {
          "base_uri": "https://localhost:8080/"
        },
        "id": "PkqWzwe2eNo3",
        "outputId": "8c9a9282-bca4-4f75-8ec0-11d6cf203938"
      },
      "execution_count": 2,
      "outputs": [
        {
          "output_type": "stream",
          "name": "stdout",
          "text": [
            "Database created at Chinook.db\n"
          ]
        }
      ]
    },
    {
      "cell_type": "markdown",
      "metadata": {
        "id": "ADModb7RcmKb"
      },
      "source": [
        "### Sample data\n",
        "\n",
        "The below example will use a SQLite connection with the Chinook database, which is a sample database that represents a **digital media store**.\n",
        "\n",
        "The database is structured to mimic real-world business scenarios, with tables representing the artists, albums, tracks, customers, and employees of a music shop.\n",
        "\n",
        "Follow [these installation steps](https://database.guide/2-sample-databases-sqlite/) to create `Chinook.db` in the same directory as this notebook. You can also download and build the database via the command line:\n",
        "```bash\n",
        "curl -s https://raw.githubusercontent.com/lerocha/chinook-database/master/ChinookDatabase/DataSources/Chinook_Sqlite.sql | sqlite3 Chinook.db\n",
        "```\n",
        "\n",
        "Now, `Chinook.db` is in our directory and we can interface with it using the SQLAlchemy-driven `SQLDatabase` class:\n",
        "\n",
        "[DB Diagram](https://dbdocs.io/nafawon167/ChinookDB?view=relationships)\n",
        "\n",
        "\n",
        "Here is the diagram:\n",
        "\n",
        "![Image](https://github.com/kavyajeetbora/foursquare_ai/blob/master/Chinook_DB.png?raw=true)"
      ]
    },
    {
      "cell_type": "markdown",
      "source": [
        "## Check the Database"
      ],
      "metadata": {
        "id": "XtPuY5cSfYlA"
      }
    },
    {
      "cell_type": "code",
      "source": [
        "# Reconnect to check tables\n",
        "conn = sqlite3.connect(db_path)\n",
        "cursor = conn.cursor()\n",
        "\n",
        "cursor.execute(\"SELECT name FROM sqlite_master WHERE type='table';\")\n",
        "print(\"Tables:\", cursor.fetchall())\n",
        "\n",
        "conn.close()"
      ],
      "metadata": {
        "colab": {
          "base_uri": "https://localhost:8080/"
        },
        "id": "cRsW3FbfeeUW",
        "outputId": "be6e7eeb-8582-4049-cdad-e914dc122208"
      },
      "execution_count": 3,
      "outputs": [
        {
          "output_type": "stream",
          "name": "stdout",
          "text": [
            "Tables: [('Album',), ('Artist',), ('Customer',), ('Employee',), ('Genre',), ('Invoice',), ('InvoiceLine',), ('MediaType',), ('Playlist',), ('PlaylistTrack',), ('Track',)]\n"
          ]
        }
      ]
    },
    {
      "cell_type": "code",
      "execution_count": 4,
      "metadata": {
        "colab": {
          "base_uri": "https://localhost:8080/",
          "height": 182
        },
        "id": "vka7ovDtcmKc",
        "outputId": "81698728-92fc-4270-dc8a-ef82eef087c4"
      },
      "outputs": [
        {
          "output_type": "stream",
          "name": "stdout",
          "text": [
            "sqlite\n",
            "Usable tables in the database: ['Album', 'Artist', 'Customer', 'Employee', 'Genre', 'Invoice', 'InvoiceLine', 'MediaType', 'Playlist', 'PlaylistTrack', 'Track']\n"
          ]
        },
        {
          "output_type": "execute_result",
          "data": {
            "text/plain": [
              "\"[(1, 'Adams', 'Andrew', 'General Manager', None, '1962-02-18 00:00:00', '2002-08-14 00:00:00', '11120 Jasper Ave NW', 'Edmonton', 'AB', 'Canada', 'T5K 2N1', '+1 (780) 428-9482', '+1 (780) 428-3457', 'andrew@chinookcorp.com'), (2, 'Edwards', 'Nancy', 'Sales Manager', 1, '1958-12-08 00:00:00', '2002-05-01 00:00:00', '825 8 Ave SW', 'Calgary', 'AB', 'Canada', 'T2P 2T3', '+1 (403) 262-3443', '+1 (403) 262-3322', 'nancy@chinookcorp.com'), (3, 'Peacock', 'Jane', 'Sales Support Agent', 2, '1973-08-29 00:00:00', '2002-04-01 00:00:00', '1111 6 Ave SW', 'Calgary', 'AB', 'Canada', 'T2P 5M5', '+1 (403) 262-3443', '+1 (403) 262-6712', 'jane@chinookcorp.com'), (4, 'Park', 'Margaret', 'Sales Support Agent', 2, '1947-09-19 00:00:00', '2003-05-03 00:00:00', '683 10 Street SW', 'Calgary', 'AB', 'Canada', 'T2P 5G3', '+1 (403) 263-4423', '+1 (403) 263-4289', 'margaret@chinookcorp.com'), (5, 'Johnson', 'Steve', 'Sales Support Agent', 2, '1965-03-03 00:00:00', '2003-10-17 00:00:00', '7727B 41 Ave', 'Calgary', 'AB', 'Canada', 'T3B 1Y7', '1 (780) 836-9987', '1 (780) 836-9543', 'steve@chinookcorp.com'), (6, 'Mitchell', 'Michael', 'IT Manager', 1, '1973-07-01 00:00:00', '2003-10-17 00:00:00', '5827 Bowness Road NW', 'Calgary', 'AB', 'Canada', 'T3B 0C5', '+1 (403) 246-9887', '+1 (403) 246-9899', 'michael@chinookcorp.com'), (7, 'King', 'Robert', 'IT Staff', 6, '1970-05-29 00:00:00', '2004-01-02 00:00:00', '590 Columbia Boulevard West', 'Lethbridge', 'AB', 'Canada', 'T1K 5N8', '+1 (403) 456-9986', '+1 (403) 456-8485', 'robert@chinookcorp.com'), (8, 'Callahan', 'Laura', 'IT Staff', 6, '1968-01-09 00:00:00', '2004-03-04 00:00:00', '923 7 ST NW', 'Lethbridge', 'AB', 'Canada', 'T1H 1Y8', '+1 (403) 467-3351', '+1 (403) 467-8772', 'laura@chinookcorp.com')]\""
            ],
            "application/vnd.google.colaboratory.intrinsic+json": {
              "type": "string"
            }
          },
          "metadata": {},
          "execution_count": 4
        }
      ],
      "source": [
        "from langchain_community.utilities import SQLDatabase\n",
        "\n",
        "db = SQLDatabase.from_uri(\"sqlite:///Chinook.db\")\n",
        "print(db.dialect)\n",
        "print(\"Usable tables in the database:\", db.get_usable_table_names())\n",
        "db.run(\"SELECT * FROM Employee LIMIT 10;\")"
      ]
    },
    {
      "cell_type": "markdown",
      "metadata": {
        "id": "ySGoSJ-dcmKd"
      },
      "source": [
        "Great! We've got a SQL database that we can query. Now let's try hooking it up to an LLM.\n",
        "\n",
        "## Chains {#chains}\n",
        "\n",
        "Chains are compositions of predictable steps. In [LangGraph](/docs/concepts/architecture/#langgraph), we can represent a chain via simple sequence of nodes. Let's create a sequence of steps that, given a question, does the following:\n",
        "- converts the question into a SQL query;\n",
        "- executes the query;\n",
        "- uses the result to answer the original question.\n",
        "\n",
        "There are scenarios not supported by this arrangement. For example, this system will execute a SQL query for any user input-- even \"hello\". Importantly, as we'll see below, some questions require more than one query to answer. We will address these scenarios in the Agents section.\n",
        "\n",
        "### Application state\n",
        "\n",
        "The LangGraph [state](https://langchain-ai.github.io/langgraph/concepts/low_level/#state) of our application controls what data is input to the application, transferred between steps, and output by the application. It is typically a `TypedDict`, but can also be a [Pydantic BaseModel](https://langchain-ai.github.io/langgraph/how-tos/state-model/).\n",
        "\n",
        "For this application, we can just keep track of the input question, generated query, query result, and generated answer:"
      ]
    },
    {
      "cell_type": "markdown",
      "metadata": {
        "id": "AZmN8IeScmKe"
      },
      "source": [
        "Now we just need functions that operate on this state and populate its contents.\n",
        "\n",
        "### Convert question to SQL query\n",
        "\n",
        "The first step is to take the user input and convert it to a SQL query. To reliably obtain SQL queries (absent markdown formatting and explanations or clarifications), we will make use of LangChain's [structured output](/docs/concepts/structured_outputs/) abstraction.\n",
        "\n",
        "Let's select a chat model for our application:"
      ]
    },
    {
      "cell_type": "markdown",
      "metadata": {
        "id": "9O2QVhfmcmKe"
      },
      "source": [
        "import ChatModelTabs from \"@theme/ChatModelTabs\";\n",
        "\n",
        "<ChatModelTabs customVarName=\"llm\" />\n"
      ]
    },
    {
      "cell_type": "code",
      "source": [
        "from dotenv import load_dotenv\n",
        "import os\n",
        "\n",
        "load_dotenv(dotenv_path = '.env', override=True)\n",
        "\n",
        "os.environ[\"LANGSMITH_TRACING\"] = \"true\"\n",
        "os.environ[\"LANGSMITH_ENDPOINT\"] = \"https://api.smith.langchain.com\""
      ],
      "metadata": {
        "id": "77XzE-lPg8wp"
      },
      "execution_count": 5,
      "outputs": []
    },
    {
      "cell_type": "code",
      "execution_count": 6,
      "metadata": {
        "id": "A4lMjqV4cmKf"
      },
      "outputs": [],
      "source": [
        "# | output: false\n",
        "# | echo: false\n",
        "\n",
        "from langchain_openai import ChatOpenAI\n",
        "\n",
        "llm = ChatOpenAI(model=\"gpt-4o-mini\", temperature=0)"
      ]
    },
    {
      "cell_type": "markdown",
      "metadata": {
        "id": "A5QiS6RrcmKf"
      },
      "source": [
        "**Note**:\n",
        "\n",
        "The **system message** in your ChatPromptTemplate is *included every time* you invoke the template for a user query (via .format() or in a chain), so it's passed with each request to the model—not just once at the start. This ensures consistency but watch token costs!\n",
        "\n",
        "Let's provide some instructions for our model:"
      ]
    },
    {
      "cell_type": "code",
      "execution_count": 7,
      "metadata": {
        "id": "c9hCEIv7cmKg",
        "outputId": "dbc7d044-b886-47df-beb9-7f7104fdfb49",
        "colab": {
          "base_uri": "https://localhost:8080/"
        }
      },
      "outputs": [
        {
          "output_type": "stream",
          "name": "stdout",
          "text": [
            "================================\u001b[1m System Message \u001b[0m================================\n",
            "\n",
            "\n",
            "Given an input question, create a syntactically correct \u001b[33;1m\u001b[1;3m{dialect}\u001b[0m query to\n",
            "run to help find the answer. Unless the user specifies in his question a\n",
            "specific number of examples they wish to obtain, always limit your query to\n",
            "at most \u001b[33;1m\u001b[1;3m{top_k}\u001b[0m results. You can order the results by a relevant column to\n",
            "return the most interesting examples in the database.\n",
            "\n",
            "Never query for all the columns from a specific table, only ask for a the\n",
            "few relevant columns given the question.\n",
            "\n",
            "Pay attention to use only the column names that you can see in the schema\n",
            "description. Be careful to not query for columns that do not exist. Also,\n",
            "pay attention to which column is in which table.\n",
            "\n",
            "Only use the following tables:\n",
            "\u001b[33;1m\u001b[1;3m{table_info}\u001b[0m\n",
            "\n",
            "================================\u001b[1m Human Message \u001b[0m=================================\n",
            "\n",
            "Question: \u001b[33;1m\u001b[1;3m{input}\u001b[0m\n"
          ]
        }
      ],
      "source": [
        "from langchain_core.prompts import ChatPromptTemplate\n",
        "\n",
        "system_message = \"\"\"\n",
        "Given an input question, create a syntactically correct {dialect} query to\n",
        "run to help find the answer. Unless the user specifies in his question a\n",
        "specific number of examples they wish to obtain, always limit your query to\n",
        "at most {top_k} results. You can order the results by a relevant column to\n",
        "return the most interesting examples in the database.\n",
        "\n",
        "Never query for all the columns from a specific table, only ask for a the\n",
        "few relevant columns given the question.\n",
        "\n",
        "Pay attention to use only the column names that you can see in the schema\n",
        "description. Be careful to not query for columns that do not exist. Also,\n",
        "pay attention to which column is in which table.\n",
        "\n",
        "Only use the following tables:\n",
        "{table_info}\n",
        "\"\"\"\n",
        "\n",
        "user_prompt = \"Question: {input}\"\n",
        "\n",
        "query_prompt_template = ChatPromptTemplate(\n",
        "    [(\"system\", system_message), (\"user\", user_prompt)]\n",
        ")\n",
        "\n",
        "for message in query_prompt_template.messages:\n",
        "    message.pretty_print()"
      ]
    },
    {
      "cell_type": "markdown",
      "metadata": {
        "id": "7cgb5SA7cmKg"
      },
      "source": [
        "The prompt includes several parameters we will need to populate, such as the SQL dialect and table schemas. LangChain's [SQLDatabase](https://python.langchain.com/api_reference/community/utilities/langchain_community.utilities.sql_database.SQLDatabase.html) object includes methods to help with this.\n",
        "\n",
        "### Step-by-step summary:\n",
        "\n",
        "1. **Prompt Template**: You defined a `ChatPromptTemplate` with a system message (instructing the LLM to generate syntactically correct SQL queries for a given dialect, limited to `top_k` results, using specific table info) and a user prompt for the input question.\n",
        "\n",
        "2. **Structured Output with TypedDict**: You used `QueryOutput` (a `TypedDict` with `query: Annotated[str, ..., \"Syntactically valid SQL query.\"]`) to enforce structured LLM output as a dictionary (`{\"query\": str}`), ensuring predictable SQL generation.\n",
        "\n",
        "3. **Pydantic Alternative**: We explored rewriting `QueryOutput` as a Pydantic `BaseModel` (`query: str = Field(..., description=\"...\")`) for runtime validation. The `...` makes `query` required, preventing `None` or missing values, which is ideal for your chatbot.\n",
        "\n",
        "4. **Write Query Function**: The `write_query` function:\n",
        "   - Takes a `state` with the user’s question.\n",
        "   - Populates the prompt template with dialect, `top_k`, table info, and question.\n",
        "   - Uses `llm.with_structured_output(QueryOutput)` to force the LLM to output a `QueryOutput`-compliant dictionary.\n",
        "   - Returns `{\"query\": result[\"query\"]}` for database execution.\n",
        "\n",
        "5. **Key Insight**: `with_structured_output` ensures the LLM doesn’t spit out random text, making your pipeline reliable. Pydantic’s required field (`...`) is recommended over optional fields for robust SQL query generation.\n",
        "\n",
        "6. **Tech Stack**: You’re using LangChain (for chaining), LangGraph (for state), and LangSmith (for tracing)—a scalable combo. Pydantic is preferred over `typing_extensions` for validation and serialization.\n",
        "\n",
        "**Next Steps**: Try implementing the Pydantic `QueryOutput` in your LangChain pipeline and test with a mock DB. Use LangSmith to debug any quirky LLM outputs. Want to code a quick example together? Let me know!\n",
        "\n",
        "\n",
        "Our `write_query` step will just populate these parameters and prompt a model to generate the SQL query:"
      ]
    },
    {
      "cell_type": "markdown",
      "source": [
        "### First Define the Models\n",
        "\n",
        "- this will handle the input and output format in structured way"
      ],
      "metadata": {
        "id": "nbdvN9J92ig3"
      }
    },
    {
      "cell_type": "code",
      "source": [
        "from pydantic import BaseModel, Field\n",
        "\n",
        "class State(BaseModel):\n",
        "    question: str = \"\"\n",
        "    query: str = \"\"  # Add defaults to make fields optional\n",
        "    result: str = \"\"\n",
        "    answer: str = \"\"\n",
        "\n",
        "class QueryOutput(BaseModel):\n",
        "    query: str = Field(..., description = \"Syntactically valid SQL query.\")"
      ],
      "metadata": {
        "id": "5ljutl15rqJ3"
      },
      "execution_count": 8,
      "outputs": []
    },
    {
      "cell_type": "markdown",
      "source": [
        "### Define each node/function\n",
        "\n",
        "- generate query\n",
        "- execute the query\n",
        "- generate the answer based on user input, query and the result"
      ],
      "metadata": {
        "id": "1REVYzSn2qLy"
      }
    },
    {
      "cell_type": "code",
      "execution_count": 9,
      "metadata": {
        "id": "aeNVAg2ncmKg"
      },
      "outputs": [],
      "source": [
        "from langchain_community.tools.sql_database.tool import QuerySQLDatabaseTool\n",
        "\n",
        "# Write query (fixed earlier)\n",
        "def write_query(state: State):\n",
        "    \"\"\"Generate SQL query to fetch information.\"\"\"\n",
        "    prompt = query_prompt_template.invoke(\n",
        "        {\n",
        "            \"dialect\": db.dialect,  # Ensure db is defined\n",
        "            \"top_k\": 10,\n",
        "            \"table_info\": db.get_table_info(),\n",
        "            \"input\": state.question,\n",
        "        }\n",
        "    )\n",
        "    structured_llm = llm.with_structured_output(QueryOutput)  # Ensure llm is defined\n",
        "    result = structured_llm.invoke(prompt)\n",
        "    return {\"query\": result.query}\n",
        "\n",
        "# Execute query (fixed for attribute access)\n",
        "def execute_query(state: State):\n",
        "    \"\"\"Execute SQL query.\"\"\"\n",
        "    execute_query_tool = QuerySQLDatabaseTool(db=db)  # Ensure db is defined\n",
        "    return {\"result\": execute_query_tool.invoke(state.query)}  # Use state.query\n",
        "\n",
        "# Generate answer (already correct)\n",
        "def generate_answer(state: State):\n",
        "    \"\"\"Answer question using retrieved information as context.\"\"\"\n",
        "    prompt = (\n",
        "        \"Given the following user question, corresponding SQL query, \"\n",
        "        \"and SQL result, answer the user question.\\n\\n\"\n",
        "        f\"Question: {state.question}\\n\"\n",
        "        f\"SQL Query: {state.query}\\n\"\n",
        "        f\"SQL Result: {state.result}\"\n",
        "    )\n",
        "    response = llm.invoke(prompt)\n",
        "    return {\"answer\": response.content}"
      ]
    },
    {
      "cell_type": "markdown",
      "metadata": {
        "id": "e2WmW_MzcmKh"
      },
      "source": [
        "Let's test it out:"
      ]
    },
    {
      "cell_type": "code",
      "execution_count": 14,
      "metadata": {
        "id": "T1E917JHcmKh",
        "outputId": "b7a47bf8-828f-4a5f-b76f-81fe2e94f82a",
        "colab": {
          "base_uri": "https://localhost:8080/"
        }
      },
      "outputs": [
        {
          "output_type": "stream",
          "name": "stdout",
          "text": [
            "Generated query: SELECT Country, COUNT(*) as CustomerCount \n",
            "FROM Customer \n",
            "GROUP BY Country \n",
            "ORDER BY CustomerCount DESC \n",
            "LIMIT 10;\n",
            "Result: [('USA', 13), ('Canada', 8), ('France', 5), ('Brazil', 5), ('Germany', 4), ('United Kingdom', 3), ('Portugal', 2), ('India', 2), ('Czech Republic', 2), ('Sweden', 1)]\n",
            "\n",
            "AI Response:\n",
            "\n",
            "----------------------------------------------------------------------------------------------------\n",
            "The top countries from where our customers come from are:\n",
            "\n",
            "1. USA - 13 customers\n",
            "2. Canada - 8 customers\n",
            "3. France - 5 customers\n",
            "4. Brazil - 5 customers\n",
            "5. Germany - 4 customers\n",
            "6. United Kingdom - 3 customers\n",
            "7. Portugal - 2 customers\n",
            "8. India - 2 customers\n",
            "9. Czech Republic - 2 customers\n",
            "10. Sweden - 1 customer\n"
          ]
        }
      ],
      "source": [
        "# Manual run\n",
        "user_query = \"Give me the top countries from where our customers come from?\"\n",
        "state = State(question=user_query)\n",
        "generated_query = write_query(state)  # Returns {\"query\": \"SELECT COUNT(*) FROM Employee;\"}\n",
        "print(f\"Generated query: {generated_query['query']}\")\n",
        "\n",
        "# Pass State to execute_query\n",
        "state = State(question=user_query, query=generated_query['query'])\n",
        "result = execute_query(state)\n",
        "print(f\"Result: {result['result']}\")\n",
        "\n",
        "# Generate answer\n",
        "state = State(question=user_query, query=generated_query['query'], result=result['result'])\n",
        "ai_response = generate_answer(state)\n",
        "print(\"\\nAI Response:\\n\")\n",
        "print(\"-\"*100)\n",
        "print(ai_response['answer'])"
      ]
    },
    {
      "cell_type": "markdown",
      "metadata": {
        "id": "a9dbHLCncmKj"
      },
      "source": [
        "### Orchestrating with LangGraph\n",
        "\n",
        "Finally, we compile our application into a single `graph` object. In this case, we are just connecting the three steps into a single sequence."
      ]
    },
    {
      "cell_type": "code",
      "source": [
        "from langgraph.graph import START, StateGraph, END\n",
        "from IPython.display import Image, display\n",
        "\n",
        "\n",
        "# Graph setup\n",
        "graph_builder = StateGraph(State)\n",
        "graph_builder.add_sequence([write_query, execute_query, generate_answer])\n",
        "graph_builder.add_edge(START, \"write_query\")\n",
        "graph_builder.add_edge(\"generate_answer\", END)\n",
        "graph = graph_builder.compile()"
      ],
      "metadata": {
        "id": "tL6zxQAfD1OQ"
      },
      "execution_count": 15,
      "outputs": []
    },
    {
      "cell_type": "code",
      "execution_count": 21,
      "metadata": {
        "id": "69bFrtWkcmKj",
        "colab": {
          "base_uri": "https://localhost:8080/"
        },
        "outputId": "f54ecb2c-b1de-40c3-d52e-73dfc42f332d"
      },
      "outputs": [
        {
          "output_type": "stream",
          "name": "stdout",
          "text": [
            "{'write_query': {'query': \"SELECT FirstName, LastName FROM Customer WHERE FirstName = 'Hitesh' LIMIT 10;\"}}\n",
            "{'execute_query': {'result': ''}}\n",
            "{'generate_answer': {'answer': 'The SQL result is not provided, but based on the question and the SQL query, if the query returns any rows, it means there is at least one customer named Hitesh. If the query returns no rows, then there is no customer named Hitesh.\\n\\nTo answer the user question: \\n\\n- If the SQL result contains rows: Yes, there is a customer named Hitesh.\\n- If the SQL result is empty: No, there is no customer named Hitesh.'}}\n",
            "---------------------------------------------------------------------------------------------------- \n",
            "\n",
            "The SQL result is not provided, but based on the question and the SQL query, if the query returns any rows, it means there is at least one customer named Hitesh. If the query returns no rows, then there is no customer named Hitesh.\n",
            "\n",
            "To answer the user question: \n",
            "\n",
            "- If the SQL result contains rows: Yes, there is a customer named Hitesh.\n",
            "- If the SQL result is empty: No, there is no customer named Hitesh.\n"
          ]
        }
      ],
      "source": [
        "# Invoke graph with stream\n",
        "# question = \"List the top buyers with their personal info, contry they belong to along with total number of orders?\"\n",
        "question = \"Is there any customer named Hitesh? \"\n",
        "for step in graph.stream(\n",
        "    {\n",
        "        \"question\": question,\n",
        "        \"query\": \"\",\n",
        "        \"result\": \"\",\n",
        "        \"answer\": \"\"\n",
        "    },\n",
        "    config={\"configurable\": {\"thread_id\": \"1\"}},\n",
        "    stream_mode=\"updates\"\n",
        "):\n",
        "    print(step)\n",
        "\n",
        "print(\"-\"*100,\"\\n\")\n",
        "print(step['generate_answer']['answer'])"
      ]
    },
    {
      "cell_type": "code",
      "source": [
        "# Invoke graph to get final result\n",
        "# question = \"List the top buyers with their personal info, contry they belong to along with total number of orders?\"\n",
        "question = \"Give me the top songs that were most played along with the artist name and number of times it was played\"\n",
        "final_state = graph.invoke(\n",
        "    {\n",
        "        \"question\": question,\n",
        "        \"query\": \"\",\n",
        "        \"result\": \"\",\n",
        "        \"answer\": \"\"\n",
        "    },\n",
        "    config={\"configurable\": {\"thread_id\": \"1\"}}\n",
        ")\n",
        "print(final_state['answer'])"
      ],
      "metadata": {
        "colab": {
          "base_uri": "https://localhost:8080/"
        },
        "id": "DKviIfzE9EKl",
        "outputId": "c3aeb122-d0a6-45e6-ebab-771c5d3021fb"
      },
      "execution_count": 22,
      "outputs": [
        {
          "output_type": "stream",
          "name": "stdout",
          "text": [
            "The top songs that were most played, along with the artist names and the number of times they were played, are as follows:\n",
            "\n",
            "1. **Balls to the Wall** by **Accept** - Played 2 times\n",
            "2. **Inject The Venom** by **AC/DC** - Played 2 times\n",
            "3. **Snowballed** by **AC/DC** - Played 2 times\n",
            "4. **Overdose** by **AC/DC** - Played 2 times\n",
            "5. **Deuces Are Wild** by **Aerosmith** - Played 2 times\n",
            "6. **Not The Doctor** by **Alanis Morissette** - Played 2 times\n",
            "7. **Por Causa De Você** by **Antônio Carlos Jobim** - Played 2 times\n",
            "8. **Welcome Home (Sanitarium)** by **Apocalyptica** - Played 2 times\n",
            "9. **Snowblind** by **Black Sabbath** - Played 2 times\n",
            "10. **Cornucopia** by **Black Sabbath** - Played 2 times\n",
            "\n",
            "All of these songs were played 2 times each.\n"
          ]
        }
      ]
    },
    {
      "cell_type": "markdown",
      "metadata": {
        "id": "8wlljJwecmKk"
      },
      "source": [
        "Check out the [LangSmith trace](https://smith.langchain.com/public/30a79380-6ba6-46af-8bd9-5d1df0b9ccca/r)."
      ]
    },
    {
      "cell_type": "markdown",
      "metadata": {
        "id": "Y_4TVYnIcmKk"
      },
      "source": [
        "### Human-in-the-loop\n",
        "\n",
        "LangGraph supports a number of features that can be useful for this workflow. One of them is [human-in-the-loop](https://langchain-ai.github.io/langgraph/concepts/human_in_the_loop/): we can interrupt our application before sensitive steps (such as the execution of a SQL query) for human review. This is enabled by LangGraph's [persistence](https://langchain-ai.github.io/langgraph/concepts/persistence/) layer, which saves run progress to your storage of choice. Below, we specify storage in-memory:"
      ]
    },
    {
      "cell_type": "code",
      "execution_count": null,
      "metadata": {
        "id": "bH4TEP6pcmKk"
      },
      "outputs": [],
      "source": [
        "from langgraph.checkpoint.memory import MemorySaver\n",
        "\n",
        "memory = MemorySaver()\n",
        "graph = graph_builder.compile(checkpointer=memory, interrupt_before=[\"execute_query\"])\n",
        "\n",
        "# Now that we're using persistence, we need to specify a thread ID\n",
        "# so that we can continue the run after review.\n",
        "config = {\"configurable\": {\"thread_id\": \"1\"}}"
      ]
    },
    {
      "cell_type": "code",
      "execution_count": null,
      "metadata": {
        "id": "3o369xhkcmKl",
        "outputId": "72314bff-1bb7-40f0-8b29-aff8819a1c12",
        "colab": {
          "base_uri": "https://localhost:8080/",
          "height": 491
        }
      },
      "outputs": [
        {
          "output_type": "display_data",
          "data": {
            "image/png": "[encoded data removed]",
            "text/plain": [
              "<IPython.core.display.Image object>"
            ]
          },
          "metadata": {}
        }
      ],
      "source": [
        "display(Image(graph.get_graph().draw_mermaid_png()))"
      ]
    },
    {
      "cell_type": "markdown",
      "metadata": {
        "id": "emIx4JnecmKl"
      },
      "source": [
        "Let's repeat the same run, adding in a simple yes/no approval step:"
      ]
    },
    {
      "cell_type": "code",
      "execution_count": null,
      "metadata": {
        "id": "sc9YSv7LcmKl",
        "outputId": "278dc20b-fd87-4113-a1ef-379d0fcc67b1",
        "colab": {
          "base_uri": "https://localhost:8080/"
        }
      },
      "outputs": [
        {
          "output_type": "stream",
          "name": "stdout",
          "text": [
            "{'write_query': {'query': 'SELECT COUNT(*) AS EmployeeCount FROM Employee;'}}\n",
            "{'__interrupt__': ()}\n",
            "Do you want to go to execute query? (yes/no): yes\n",
            "{'execute_query': {'result': '[(8,)]'}}\n",
            "{'generate_answer': {'answer': 'There are 8 employees.'}}\n"
          ]
        }
      ],
      "source": [
        "for step in graph.stream(\n",
        "    {\"question\": \"How many employees are there?\"},\n",
        "    config,\n",
        "    stream_mode=\"updates\",\n",
        "):\n",
        "    print(step)\n",
        "\n",
        "try:\n",
        "    user_approval = input(\"Do you want to go to execute query? (yes/no): \")\n",
        "except Exception:\n",
        "    user_approval = \"no\"\n",
        "\n",
        "if user_approval.lower() == \"yes\":\n",
        "    # If approved, continue the graph execution\n",
        "    for step in graph.stream(None, config, stream_mode=\"updates\"):\n",
        "        print(step)\n",
        "else:\n",
        "    print(\"Operation cancelled by user.\")"
      ]
    },
    {
      "cell_type": "markdown",
      "metadata": {
        "id": "ca1Kxv_TcmKl"
      },
      "source": [
        "See [this](https://langchain-ai.github.io/langgraph/concepts/human_in_the_loop/) LangGraph guide for more detail and examples."
      ]
    }
  ],
  "metadata": {
    "kernelspec": {
      "display_name": "Python 3 (ipykernel)",
      "language": "python",
      "name": "python3"
    },
    "language_info": {
      "codemirror_mode": {
        "name": "ipython",
        "version": 3
      },
      "file_extension": ".py",
      "mimetype": "text/x-python",
      "name": "python",
      "nbconvert_exporter": "python",
      "pygments_lexer": "ipython3",
      "version": "3.10.4"
    },
    "colab": {
      "provenance": [],
      "include_colab_link": true
    }
  },
  "nbformat": 4,
  "nbformat_minor": 0
}