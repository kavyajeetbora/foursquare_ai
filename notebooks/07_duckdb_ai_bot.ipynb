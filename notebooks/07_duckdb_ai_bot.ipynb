{
  "nbformat": 4,
  "nbformat_minor": 0,
  "metadata": {
    "colab": {
      "provenance": [],
      "authorship_tag": "ABX9TyMyHO4e17XRVdGsUYfvCQLl",
      "include_colab_link": true
    },
    "kernelspec": {
      "name": "python3",
      "display_name": "Python 3"
    },
    "language_info": {
      "name": "python"
    }
  },
  "cells": [
    {
      "cell_type": "markdown",
      "metadata": {
        "id": "view-in-github",
        "colab_type": "text"
      },
      "source": [
        "<a href=\"https://colab.research.google.com/github/kavyajeetbora/foursquare_ai/blob/master/notebooks/07_duckdb_ai_bot.ipynb\" target=\"_parent\"><img src=\"https://colab.research.google.com/assets/colab-badge.svg\" alt=\"Open In Colab\"/></a>"
      ]
    },
    {
      "cell_type": "code",
      "execution_count": null,
      "metadata": {
        "id": "Fs4zr46SQDV9"
      },
      "outputs": [],
      "source": [
        "!pip install --quiet duckdb jupysql duckdb-engine"
      ]
    },
    {
      "cell_type": "code",
      "source": [
        "import duckdb\n",
        "import os\n",
        "import pandas as pd"
      ],
      "metadata": {
        "id": "rcdMclIzTa5j"
      },
      "execution_count": null,
      "outputs": []
    },
    {
      "cell_type": "code",
      "source": [
        "# Initialize DuckDB connection\n",
        "con = duckdb.connect()\n",
        "\n",
        "# Load required extensions\n",
        "con.execute(\"INSTALL httpfs; LOAD httpfs; INSTALL spatial; LOAD spatial;\")\n",
        "\n",
        "s3_places_path = 's3://fsq-os-places-us-east-1/release/dt=2025-09-09/places/parquet/places-*.zstd.parquet'\n",
        "s3_categories_path = 's3://fsq-os-places-us-east-1/release/dt=2025-09-09/categories/parquet/categories.zstd.parquet'\n",
        "\n",
        "# Execute the SELECT query and create a view\n",
        "con.execute(f\"\"\"\n",
        "CREATE OR REPLACE VIEW places_with_categories AS\n",
        "WITH places AS (\n",
        "    SELECT\n",
        "        DISTINCT UNNEST(P.fsq_category_ids) as fsq_category_id,\n",
        "        name,\n",
        "        postcode,\n",
        "        address,\n",
        "        region,\n",
        "        ST_Point(longitude, latitude) AS geom\n",
        "    FROM read_parquet('{s3_places_path}') AS P\n",
        "    WHERE latitude IS NOT NULL AND longitude IS NOT NULL AND country='IN'\n",
        "),\n",
        "places_with_categories AS (\n",
        "    SELECT\n",
        "        P.name AS name,\n",
        "        C.level1_category_name AS category_level_1,\n",
        "        C.level2_category_name AS category_level_2,\n",
        "        postcode,\n",
        "        address,\n",
        "        region,\n",
        "        P.geom\n",
        "    FROM places AS P\n",
        "    JOIN read_parquet('{s3_categories_path}') AS C\n",
        "    ON P.fsq_category_id = C.category_id\n",
        ")\n",
        "SELECT\n",
        "    name,\n",
        "    category_level_1,\n",
        "    category_level_2,\n",
        "    address,\n",
        "    region,\n",
        "    postcode,\n",
        "    geom\n",
        "FROM places_with_categories;\n",
        "\"\"\")\n",
        "\n",
        "# Export the view to GeoParquet\n",
        "con.execute(\"COPY (SELECT * FROM places_with_categories) TO 'output.geoparquet' WITH (FORMAT PARQUET, CODEC ZSTD);\")\n",
        "\n",
        "## Check the total count of the database:\n",
        "# con.execute(\"SELECT COUNT(*) FROM places_with_categories;\")\n",
        "# result = con.fetchone()[0]\n",
        "# print(result)\n",
        "## Around 1358392 points are there\n",
        "\n",
        "# Close the connection\n",
        "con.close()"
      ],
      "metadata": {
        "id": "ldsOwjrka_mc"
      },
      "execution_count": null,
      "outputs": []
    }
  ]
}