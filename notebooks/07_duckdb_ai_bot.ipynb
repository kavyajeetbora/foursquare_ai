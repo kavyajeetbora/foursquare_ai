{
  "nbformat": 4,
  "nbformat_minor": 0,
  "metadata": {
    "colab": {
      "provenance": [],
      "authorship_tag": "ABX9TyMJIhFR8sOdy7M4+v+kY1ix",
      "include_colab_link": true
    },
    "kernelspec": {
      "name": "python3",
      "display_name": "Python 3"
    },
    "language_info": {
      "name": "python"
    },
    "widgets": {
      "application/vnd.jupyter.widget-state+json": {
        "c3f3f14be54b4620b581b16662eea8b3": {
          "model_module": "@jupyter-widgets/controls",
          "model_name": "FloatProgressModel",
          "model_module_version": "1.5.0",
          "state": {
            "_dom_classes": [],
            "_model_module": "@jupyter-widgets/controls",
            "_model_module_version": "1.5.0",
            "_model_name": "FloatProgressModel",
            "_view_count": null,
            "_view_module": "@jupyter-widgets/controls",
            "_view_module_version": "1.5.0",
            "_view_name": "ProgressView",
            "bar_style": "",
            "description": "",
            "description_tooltip": null,
            "layout": "IPY_MODEL_d40453242a2c4b5ebd97db2e7f3fe8e6",
            "max": 100,
            "min": 0,
            "orientation": "horizontal",
            "style": "IPY_MODEL_ad8a309f085e4b8db4ea8520aaabeabe",
            "value": 100
          }
        },
        "d40453242a2c4b5ebd97db2e7f3fe8e6": {
          "model_module": "@jupyter-widgets/base",
          "model_name": "LayoutModel",
          "model_module_version": "1.2.0",
          "state": {
            "_model_module": "@jupyter-widgets/base",
            "_model_module_version": "1.2.0",
            "_model_name": "LayoutModel",
            "_view_count": null,
            "_view_module": "@jupyter-widgets/base",
            "_view_module_version": "1.2.0",
            "_view_name": "LayoutView",
            "align_content": null,
            "align_items": null,
            "align_self": null,
            "border": null,
            "bottom": null,
            "display": null,
            "flex": null,
            "flex_flow": null,
            "grid_area": null,
            "grid_auto_columns": null,
            "grid_auto_flow": null,
            "grid_auto_rows": null,
            "grid_column": null,
            "grid_gap": null,
            "grid_row": null,
            "grid_template_areas": null,
            "grid_template_columns": null,
            "grid_template_rows": null,
            "height": null,
            "justify_content": null,
            "justify_items": null,
            "left": null,
            "margin": null,
            "max_height": null,
            "max_width": null,
            "min_height": null,
            "min_width": null,
            "object_fit": null,
            "object_position": null,
            "order": null,
            "overflow": null,
            "overflow_x": null,
            "overflow_y": null,
            "padding": null,
            "right": null,
            "top": null,
            "visibility": null,
            "width": "auto"
          }
        },
        "ad8a309f085e4b8db4ea8520aaabeabe": {
          "model_module": "@jupyter-widgets/controls",
          "model_name": "ProgressStyleModel",
          "model_module_version": "1.5.0",
          "state": {
            "_model_module": "@jupyter-widgets/controls",
            "_model_module_version": "1.5.0",
            "_model_name": "ProgressStyleModel",
            "_view_count": null,
            "_view_module": "@jupyter-widgets/base",
            "_view_module_version": "1.2.0",
            "_view_name": "StyleView",
            "bar_color": "black",
            "description_width": ""
          }
        }
      }
    }
  },
  "cells": [
    {
      "cell_type": "markdown",
      "metadata": {
        "id": "view-in-github",
        "colab_type": "text"
      },
      "source": [
        "<a href=\"https://colab.research.google.com/github/kavyajeetbora/foursquare_ai/blob/master/notebooks/07_duckdb_ai_bot.ipynb\" target=\"_parent\"><img src=\"https://colab.research.google.com/assets/colab-badge.svg\" alt=\"Open In Colab\"/></a>"
      ]
    },
    {
      "cell_type": "code",
      "execution_count": 18,
      "metadata": {
        "id": "Fs4zr46SQDV9"
      },
      "outputs": [],
      "source": [
        "!pip install --quiet duckdb jupysql duckdb-engine"
      ]
    },
    {
      "cell_type": "code",
      "source": [
        "import duckdb\n",
        "import os\n",
        "import pandas as pd"
      ],
      "metadata": {
        "id": "rcdMclIzTa5j"
      },
      "execution_count": 19,
      "outputs": []
    },
    {
      "cell_type": "code",
      "source": [
        "# name,\n",
        "# address,\n",
        "# latitude,\n",
        "# longitude,\n",
        "# region,\n",
        "# postcode,\n",
        "# fsq_category_labels as category,\n",
        "# geom"
      ],
      "metadata": {
        "id": "6X8_6OS70UyZ"
      },
      "execution_count": 22,
      "outputs": []
    },
    {
      "cell_type": "code",
      "source": [
        "# Initialize DuckDB connection\n",
        "con = duckdb.connect()\n",
        "\n",
        "# Load the httpfs extension to enable S3 access\n",
        "con.execute(\"INSTALL httpfs;\")\n",
        "con.execute(\"LOAD httpfs;\")\n",
        "\n",
        "s3_places_path = 's3://fsq-os-places-us-east-1/release/dt=2025-09-09/places/parquet/places-*.zstd.parquet'\n",
        "\n",
        "s3_categories_path = 's3://fsq-os-places-us-east-1/release/dt=2025-09-09/categories/parquet/categories.zstd.parquet'\n",
        "\n",
        "df = duckdb.sql(\n",
        "    f\"\"\"\n",
        "    WITH places AS (\n",
        "        SELECT\n",
        "            DISTINCT UNNEST(P.fsq_category_ids) as fsq_category_id,\n",
        "            name,\n",
        "            postcode,\n",
        "            address,\n",
        "            region,\n",
        "            geom\n",
        "        FROM read_parquet('{s3_places_path}') AS P\n",
        "        WHERE latitude IS NOT NULL AND longitude IS NOT NULL AND country='IN'\n",
        "    ),\n",
        "    places_with_categories AS (\n",
        "        SELECT\n",
        "            P.name AS name,\n",
        "            C.level1_category_name AS category_level_1,\n",
        "            C.level2_category_name AS category_level_2,\n",
        "            postcode,\n",
        "            address,\n",
        "            region,\n",
        "            P.geom\n",
        "        FROM places AS P\n",
        "        JOIN read_parquet('{s3_categories_path}') AS C\n",
        "        ON P.fsq_category_id = C.category_id\n",
        "    )\n",
        "\n",
        "\n",
        "    SELECT\n",
        "        name,\n",
        "        category_level_1,\n",
        "        category_level_2,\n",
        "        address,\n",
        "        region,\n",
        "        postcode,\n",
        "        geom\n",
        "    FROM places_with_categories LIMIT 10;\n",
        "\n",
        "\"\"\")\n",
        "\n",
        "print(df)\n",
        "\n",
        "# Close the DuckDB connection\n",
        "con.close()"
      ],
      "metadata": {
        "colab": {
          "base_uri": "https://localhost:8080/",
          "height": 398,
          "referenced_widgets": [
            "c3f3f14be54b4620b581b16662eea8b3",
            "d40453242a2c4b5ebd97db2e7f3fe8e6",
            "ad8a309f085e4b8db4ea8520aaabeabe"
          ]
        },
        "id": "ldsOwjrka_mc",
        "outputId": "6294aabf-2f44-4350-cd60-5b56dc7bcd78"
      },
      "execution_count": 55,
      "outputs": [
        {
          "output_type": "display_data",
          "data": {
            "text/plain": [
              "FloatProgress(value=0.0, layout=Layout(width='auto'), style=ProgressStyle(bar_color='black'))"
            ],
            "application/vnd.jupyter.widget-view+json": {
              "version_major": 2,
              "version_minor": 0,
              "model_id": "c3f3f14be54b4620b581b16662eea8b3"
            }
          },
          "metadata": {}
        },
        {
          "output_type": "stream",
          "name": "stdout",
          "text": [
            "┌───────────────────────────┬───────────────────────────┬───────────────────────────┬───────────────────────┬─────────────────────────────┬──────────┬───────────────────────────────────────────────────────────────────────┐\n",
            "│           name            │     category_level_1      │     category_level_2      │        address        │           region            │ postcode │                                 geom                                  │\n",
            "│          varchar          │          varchar          │          varchar          │        varchar        │           varchar           │ varchar  │                                 blob                                  │\n",
            "├───────────────────────────┼───────────────────────────┼───────────────────────────┼───────────────────────┼─────────────────────────────┼──────────┼───────────────────────────────────────────────────────────────────────┤\n",
            "│ Little Andaman Lighthouse │ Landmarks and Outdoors    │ Lighthouse                │ Little Andaman Island │ NULL                        │ NULL     │ \\x00\\x00\\x00\\x00\\x01@W HD\\x00\\x00\\x00@%\\x062\\xD7\\xB4uk                │\n",
            "│ Ocean Somewhere           │ Travel and Transportation │ Boat or Ferry             │ NULL                  │ NULL                        │ NULL     │ \\x00\\x00\\x00\\x00\\x01@W6\\x8E\\x8Aq\\xDEj@\\x22Fv \\xEE\\x8D\\x11             │\n",
            "│ Guest House               │ Travel and Transportation │ Lodging                   │ NULL                  │ Andaman and Nicobar Islands │ 744303   │ \\x00\\x00\\x00\\x00\\x01@WB\\xEE \\x03\\xAB\\x86@ \\xECS\\x8E\\xF3Mj             │\n",
            "│ Katchan Jetty             │ Sports and Recreation     │ Fishing Area              │ NULL                  │ Andaman and Nicobar Islands │ 744304   │ \\x00\\x00\\x00\\x00\\x01@WY\\xC8\\xDE*\\xC3\\x22@\\x1F\\xEAm\\xFD3\\x9C\\xE5       │\n",
            "│ Tillanchong Beach         │ Landmarks and Outdoors    │ Beach                     │ NULL                  │ アンダマン・ニコバル諸島    │ 744303   │ \\x00\\x00\\x00\\x00\\x01@Wg\\xE3\\xC1\\x05\\x18n@ \\xED5\\x22 \\xBC8             │\n",
            "│ Appachan                  │ Landmarks and Outdoors    │ States and Municipalities │ Appachan              │ Andaman and Nicobar Islands │ 744303   │ \\x00\\x00\\x00\\x00\\x01@Wi>\\x81E\\x0E\\xFE@ \\xC9\\xC1\\xF8]tO                │\n",
            "│ Appachan                  │ Landmarks and Outdoors    │ States and Municipalities │ Appachan              │ Andaman and Nicobar Islands │ 744303   │ \\x00\\x00\\x00\\x00\\x01@Wi>\\x81E\\x0E\\xFE@ \\xC9\\x80\\x90\\xB4\\x17\\xCA       │\n",
            "│ Los Pollos                │ Landmarks and Outdoors    │ States and Municipalities │ NULL                  │ Andaman and Nicobar Islands │ 744303   │ \\x00\\x00\\x00\\x00\\x01@Wi\\xBD@g\\xCF\\x1C@ \\xC9kT\\xE2\\xB0d                │\n",
            "│ Man Island                │ Landmarks and Outdoors    │ Island                    │ NULL                  │ アンダマン・ニコバル諸島    │ 744303   │ \\x00\\x00\\x00\\x00\\x01@Wi\\x96\\xBF\\xCA\\x85\\xCB@ \\xC8\\x95(\\xF1\\x90\\xD1    │\n",
            "│ Zombi Forest              │ Landmarks and Outdoors    │ Forest                    │ NULL                  │ アンダマン・ニコバル諸島    │ 744303   │ \\x00\\x00\\x00\\x00\\x01@We\\xD5\\xBA\\xB2\\x18\\x16@ \\x1A\\x0D\\xFD\\xEF\\x84\\x88 │\n",
            "├───────────────────────────┴───────────────────────────┴───────────────────────────┴───────────────────────┴─────────────────────────────┴──────────┴───────────────────────────────────────────────────────────────────────┤\n",
            "│ 10 rows                                                                                                                                                                                                          7 columns │\n",
            "└────────────────────────────────────────────────────────────────────────────────────────────────────────────────────────────────────────────────────────────────────────────────────────────────────────────────────────────┘\n",
            "\n"
          ]
        }
      ]
    },
    {
      "cell_type": "code",
      "source": [
        "# Initialize DuckDB connection\n",
        "con = duckdb.connect()\n",
        "\n",
        "# Load the httpfs extension to enable S3 access\n",
        "con.execute(\"INSTALL httpfs;\")\n",
        "con.execute(\"LOAD httpfs;\")\n",
        "\n",
        "s3_path = 's3://fsq-os-places-us-east-1/release/dt=2025-09-09/categories/parquet/categories.zstd.parquet'\n",
        "df = duckdb.sql(\n",
        "    f\"\"\"\n",
        "        SELECT *\n",
        "        FROM read_parquet('{s3_path}') LIMIT 10;\n",
        "\"\"\")\n",
        "\n",
        "print(df)\n",
        "\n",
        "# Close the DuckDB connection\n",
        "con.close()"
      ],
      "metadata": {
        "colab": {
          "base_uri": "https://localhost:8080/"
        },
        "id": "di7zmSTVdbp8",
        "outputId": "a7a37181-4ba1-47ea-ec02-632ce106a922"
      },
      "execution_count": 45,
      "outputs": [
        {
          "output_type": "stream",
          "name": "stdout",
          "text": [
            "┌──────────────────────────┬────────────────┬───────────────────────┬──────────────────────────────────────────────────────────────────────────────────────────────────────────────────────────────────────┬──────────────────────────┬──────────────────────────┬──────────────────────────┬─────────────────────────────┬──────────────────────────┬───────────────────────────┬──────────────────────────┬───────────────────────────┬──────────────────────────┬──────────────────────┬──────────────────────────┬──────────────────────┬────────────┐\n",
            "│       category_id        │ category_level │     category_name     │                                                            category_label                                                            │    level1_category_id    │   level1_category_name   │    level2_category_id    │    level2_category_name     │    level3_category_id    │   level3_category_name    │    level4_category_id    │   level4_category_name    │    level5_category_id    │ level5_category_name │    level6_category_id    │ level6_category_name │     dt     │\n",
            "│         varchar          │     int32      │        varchar        │                                                               varchar                                                                │         varchar          │         varchar          │         varchar          │           varchar           │         varchar          │          varchar          │         varchar          │          varchar          │         varchar          │       varchar        │         varchar          │       varchar        │    date    │\n",
            "├──────────────────────────┼────────────────┼───────────────────────┼──────────────────────────────────────────────────────────────────────────────────────────────────────────────────────────────────────┼──────────────────────────┼──────────────────────────┼──────────────────────────┼─────────────────────────────┼──────────────────────────┼───────────────────────────┼──────────────────────────┼───────────────────────────┼──────────────────────────┼──────────────────────┼──────────────────────────┼──────────────────────┼────────────┤\n",
            "│ 63be6904847c3692a84b9ba8 │              2 │ Homeless Shelter      │ Community and Government > Homeless Shelter                                                                                          │ 63be6904847c3692a84b9b9a │ Community and Government │ 63be6904847c3692a84b9ba8 │ Homeless Shelter            │ NULL                     │ NULL                      │ NULL                     │ NULL                      │ NULL                     │ NULL                 │ NULL                     │ NULL                 │ 2025-09-09 │\n",
            "│ 52939aed3cf9994f4e043a3c │              6 │ Mineiro Restaurant    │ Dining and Drinking > Restaurant > Latin American Restaurant > South American Restaurant > Brazilian Restaurant > Mineiro Restaurant │ 63be6904847c3692a84b9bb5 │ Dining and Drinking      │ 4d4b7105d754a06374d81259 │ Restaurant                  │ 4bf58dd8d48988d1be941735 │ Latin American Restaurant │ 4bf58dd8d48988d1cd941735 │ South American Restaurant │ 4bf58dd8d48988d16b941735 │ Brazilian Restaurant │ 52939aed3cf9994f4e043a3c │ Mineiro Restaurant   │ 2025-09-09 │\n",
            "│ 53d6c1b0e4b02351e88a83de │              4 │ Tsipouro Restaurant   │ Dining and Drinking > Restaurant > Greek Restaurant > Tsipouro Restaurant                                                            │ 63be6904847c3692a84b9bb5 │ Dining and Drinking      │ 4d4b7105d754a06374d81259 │ Restaurant                  │ 4bf58dd8d48988d10e941735 │ Greek Restaurant          │ 53d6c1b0e4b02351e88a83de │ Tsipouro Restaurant       │ NULL                     │ NULL                 │ NULL                     │ NULL                 │ 2025-09-09 │\n",
            "│ 4bf58dd8d48988d1e4941735 │              2 │ Campground            │ Landmarks and Outdoors > Campground                                                                                                  │ 4d4b7105d754a06377d81259 │ Landmarks and Outdoors   │ 4bf58dd8d48988d1e4941735 │ Campground                  │ NULL                     │ NULL                      │ NULL                     │ NULL                      │ NULL                     │ NULL                 │ NULL                     │ NULL                 │ 2025-09-09 │\n",
            "│ 63be6904847c3692a84b9bcc │              3 │ Gastroenterologist    │ Health and Medicine > Physician > Gastroenterologist                                                                                 │ 63be6904847c3692a84b9bb9 │ Health and Medicine      │ 63be6904847c3692a84b9bc6 │ Physician                   │ 63be6904847c3692a84b9bcc │ Gastroenterologist        │ NULL                     │ NULL                      │ NULL                     │ NULL                 │ NULL                     │ NULL                 │ 2025-09-09 │\n",
            "│ 4bf58dd8d48988d14e941735 │              3 │ American Restaurant   │ Dining and Drinking > Restaurant > American Restaurant                                                                               │ 63be6904847c3692a84b9bb5 │ Dining and Drinking      │ 4d4b7105d754a06374d81259 │ Restaurant                  │ 4bf58dd8d48988d14e941735 │ American Restaurant       │ NULL                     │ NULL                      │ NULL                     │ NULL                 │ NULL                     │ NULL                 │ 2025-09-09 │\n",
            "│ 4bf58dd8d48988d199941735 │              4 │ College Arts Building │ Community and Government > Education > College and University > College Arts Building                                                │ 63be6904847c3692a84b9b9a │ Community and Government │ 4bf58dd8d48988d13b941735 │ Education                   │ 4d4b7105d754a06372d81259 │ College and University    │ 4bf58dd8d48988d199941735 │ College Arts Building     │ NULL                     │ NULL                 │ NULL                     │ NULL                 │ 2025-09-09 │\n",
            "│ 4eb1c0253b7b52c0e1adc2e9 │              2 │ Garden Center         │ Retail > Garden Center                                                                                                               │ 4d4b7105d754a06378d81259 │ Retail                   │ 4eb1c0253b7b52c0e1adc2e9 │ Garden Center               │ NULL                     │ NULL                      │ NULL                     │ NULL                      │ NULL                     │ NULL                 │ NULL                     │ NULL                 │ 2025-09-09 │\n",
            "│ 63be6904847c3692a84b9bbd │              3 │ Ambulance Service     │ Health and Medicine > Emergency Service > Ambulance Service                                                                          │ 63be6904847c3692a84b9bb9 │ Health and Medicine      │ 63be6904847c3692a84b9bbc │ Emergency Service           │ 63be6904847c3692a84b9bbd │ Ambulance Service         │ NULL                     │ NULL                      │ NULL                     │ NULL                 │ NULL                     │ NULL                 │ 2025-09-09 │\n",
            "│ 4bf58dd8d48988d16d941735 │              3 │ Café                  │ Dining and Drinking > Cafe, Coffee, and Tea House > Café                                                                             │ 63be6904847c3692a84b9bb5 │ Dining and Drinking      │ 63be6904847c3692a84b9bb6 │ Cafe, Coffee, and Tea House │ 4bf58dd8d48988d16d941735 │ Café                      │ NULL                     │ NULL                      │ NULL                     │ NULL                 │ NULL                     │ NULL                 │ 2025-09-09 │\n",
            "├──────────────────────────┴────────────────┴───────────────────────┴──────────────────────────────────────────────────────────────────────────────────────────────────────────────────────────────────────┴──────────────────────────┴──────────────────────────┴──────────────────────────┴─────────────────────────────┴──────────────────────────┴───────────────────────────┴──────────────────────────┴───────────────────────────┴──────────────────────────┴──────────────────────┴──────────────────────────┴──────────────────────┴────────────┤\n",
            "│ 10 rows                                                                                                                                                                                                                                                                                                                                                                                                                                                                                                                                     17 columns │\n",
            "└────────────────────────────────────────────────────────────────────────────────────────────────────────────────────────────────────────────────────────────────────────────────────────────────────────────────────────────────────────────────────────────────────────────────────────────────────────────────────────────────────────────────────────────────────────────────────────────────────────────────────────────────────────────────────────────────────────────────────────────────────────────────────────────────────────────────────────┘\n",
            "\n"
          ]
        }
      ]
    }
  ]
}