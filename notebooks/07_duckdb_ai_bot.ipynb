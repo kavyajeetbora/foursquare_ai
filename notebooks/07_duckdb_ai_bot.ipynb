{
  "nbformat": 4,
  "nbformat_minor": 0,
  "metadata": {
    "colab": {
      "provenance": [],
      "authorship_tag": "ABX9TyM4s1xz8v0mNAPNgf9RBkvJ",
      "include_colab_link": true
    },
    "kernelspec": {
      "name": "python3",
      "display_name": "Python 3"
    },
    "language_info": {
      "name": "python"
    },
    "widgets": {
      "application/vnd.jupyter.widget-state+json": {
        "670a87daa91c4a3aa17e4ee433ce589e": {
          "model_module": "@jupyter-widgets/controls",
          "model_name": "FloatProgressModel",
          "model_module_version": "1.5.0",
          "state": {
            "_dom_classes": [],
            "_model_module": "@jupyter-widgets/controls",
            "_model_module_version": "1.5.0",
            "_model_name": "FloatProgressModel",
            "_view_count": null,
            "_view_module": "@jupyter-widgets/controls",
            "_view_module_version": "1.5.0",
            "_view_name": "ProgressView",
            "bar_style": "",
            "description": "",
            "description_tooltip": null,
            "layout": "IPY_MODEL_f7c098e4e3104cf9bb1293bb965e0fbe",
            "max": 100,
            "min": 0,
            "orientation": "horizontal",
            "style": "IPY_MODEL_a2f753f9d9d142f9abdddad2c2d766c3",
            "value": 100
          }
        },
        "f7c098e4e3104cf9bb1293bb965e0fbe": {
          "model_module": "@jupyter-widgets/base",
          "model_name": "LayoutModel",
          "model_module_version": "1.2.0",
          "state": {
            "_model_module": "@jupyter-widgets/base",
            "_model_module_version": "1.2.0",
            "_model_name": "LayoutModel",
            "_view_count": null,
            "_view_module": "@jupyter-widgets/base",
            "_view_module_version": "1.2.0",
            "_view_name": "LayoutView",
            "align_content": null,
            "align_items": null,
            "align_self": null,
            "border": null,
            "bottom": null,
            "display": null,
            "flex": null,
            "flex_flow": null,
            "grid_area": null,
            "grid_auto_columns": null,
            "grid_auto_flow": null,
            "grid_auto_rows": null,
            "grid_column": null,
            "grid_gap": null,
            "grid_row": null,
            "grid_template_areas": null,
            "grid_template_columns": null,
            "grid_template_rows": null,
            "height": null,
            "justify_content": null,
            "justify_items": null,
            "left": null,
            "margin": null,
            "max_height": null,
            "max_width": null,
            "min_height": null,
            "min_width": null,
            "object_fit": null,
            "object_position": null,
            "order": null,
            "overflow": null,
            "overflow_x": null,
            "overflow_y": null,
            "padding": null,
            "right": null,
            "top": null,
            "visibility": null,
            "width": "auto"
          }
        },
        "a2f753f9d9d142f9abdddad2c2d766c3": {
          "model_module": "@jupyter-widgets/controls",
          "model_name": "ProgressStyleModel",
          "model_module_version": "1.5.0",
          "state": {
            "_model_module": "@jupyter-widgets/controls",
            "_model_module_version": "1.5.0",
            "_model_name": "ProgressStyleModel",
            "_view_count": null,
            "_view_module": "@jupyter-widgets/base",
            "_view_module_version": "1.2.0",
            "_view_name": "StyleView",
            "bar_color": "black",
            "description_width": ""
          }
        }
      }
    }
  },
  "cells": [
    {
      "cell_type": "markdown",
      "metadata": {
        "id": "view-in-github",
        "colab_type": "text"
      },
      "source": [
        "<a href=\"https://colab.research.google.com/github/kavyajeetbora/foursquare_ai/blob/master/notebooks/07_duckdb_ai_bot.ipynb\" target=\"_parent\"><img src=\"https://colab.research.google.com/assets/colab-badge.svg\" alt=\"Open In Colab\"/></a>"
      ]
    },
    {
      "cell_type": "code",
      "execution_count": 1,
      "metadata": {
        "id": "Fs4zr46SQDV9",
        "outputId": "6b7a68f0-1521-46c1-de2c-efeeebfd41f9",
        "colab": {
          "base_uri": "https://localhost:8080/"
        }
      },
      "outputs": [
        {
          "output_type": "stream",
          "name": "stdout",
          "text": [
            "\u001b[2K   \u001b[90m━━━━━━━━━━━━━━━━━━━━━━━━━━━━━━━━━━━━━━━━\u001b[0m \u001b[32m95.1/95.1 kB\u001b[0m \u001b[31m1.6 MB/s\u001b[0m eta \u001b[36m0:00:00\u001b[0m\n",
            "\u001b[2K   \u001b[90m━━━━━━━━━━━━━━━━━━━━━━━━━━━━━━━━━━━━━━━━\u001b[0m \u001b[32m49.7/49.7 kB\u001b[0m \u001b[31m1.9 MB/s\u001b[0m eta \u001b[36m0:00:00\u001b[0m\n",
            "\u001b[2K   \u001b[90m━━━━━━━━━━━━━━━━━━━━━━━━━━━━━━━━━━━━━━━━\u001b[0m \u001b[32m192.8/192.8 kB\u001b[0m \u001b[31m10.1 MB/s\u001b[0m eta \u001b[36m0:00:00\u001b[0m\n",
            "\u001b[2K   \u001b[90m━━━━━━━━━━━━━━━━━━━━━━━━━━━━━━━━━━━━━━━━\u001b[0m \u001b[32m137.3/137.3 kB\u001b[0m \u001b[31m6.4 MB/s\u001b[0m eta \u001b[36m0:00:00\u001b[0m\n",
            "\u001b[?25h"
          ]
        }
      ],
      "source": [
        "!pip install --quiet duckdb jupysql duckdb-engine"
      ]
    },
    {
      "cell_type": "code",
      "source": [
        "import duckdb\n",
        "import os\n",
        "import pandas as pd"
      ],
      "metadata": {
        "id": "rcdMclIzTa5j"
      },
      "execution_count": 2,
      "outputs": []
    },
    {
      "cell_type": "code",
      "source": [
        "# Initialize DuckDB connection\n",
        "con = duckdb.connect()\n",
        "\n",
        "# Load required extensions\n",
        "con.execute(\"INSTALL httpfs; LOAD httpfs; INSTALL spatial; LOAD spatial;\")\n",
        "\n",
        "s3_places_path = 's3://fsq-os-places-us-east-1/release/dt=2025-09-09/places/parquet/places-*.zstd.parquet'\n",
        "s3_categories_path = 's3://fsq-os-places-us-east-1/release/dt=2025-09-09/categories/parquet/categories.zstd.parquet'\n",
        "\n",
        "# Execute the SELECT query and create a view\n",
        "con.execute(f\"\"\"\n",
        "CREATE OR REPLACE VIEW places_with_categories AS\n",
        "WITH places AS (\n",
        "    SELECT\n",
        "        DISTINCT UNNEST(P.fsq_category_ids) as fsq_category_id,\n",
        "        name,\n",
        "        postcode,\n",
        "        address,\n",
        "        region,\n",
        "        ST_Point(longitude, latitude) AS geom\n",
        "    FROM read_parquet('{s3_places_path}') AS P\n",
        "    WHERE latitude IS NOT NULL AND longitude IS NOT NULL AND country='IN'\n",
        "),\n",
        "places_with_categories AS (\n",
        "    SELECT\n",
        "        P.name AS name,\n",
        "        C.level1_category_name AS category_level_1,\n",
        "        C.level2_category_name AS category_level_2,\n",
        "        postcode,\n",
        "        address,\n",
        "        region,\n",
        "        P.geom\n",
        "    FROM places AS P\n",
        "    JOIN read_parquet('{s3_categories_path}') AS C\n",
        "    ON P.fsq_category_id = C.category_id\n",
        ")\n",
        "SELECT\n",
        "    name,\n",
        "    category_level_1,\n",
        "    category_level_2,\n",
        "    address,\n",
        "    region,\n",
        "    postcode,\n",
        "    geom\n",
        "FROM places_with_categories;\n",
        "\"\"\")\n",
        "\n",
        "# Export the view to GeoParquet\n",
        "con.execute(\"COPY (SELECT * FROM places_with_categories) TO 'output.geoparquet' WITH (FORMAT PARQUET, CODEC ZSTD);\")\n",
        "\n",
        "## Check the total count of the database:\n",
        "# con.execute(\"SELECT COUNT(*) FROM places_with_categories;\")\n",
        "# result = con.fetchone()[0]\n",
        "# print(result)\n",
        "## Around 1358392 points are there\n",
        "\n",
        "# Close the connection\n",
        "con.close()"
      ],
      "metadata": {
        "id": "ldsOwjrka_mc",
        "outputId": "a110b376-703c-40fe-c403-24459073e0f3",
        "colab": {
          "base_uri": "https://localhost:8080/",
          "height": 49,
          "referenced_widgets": [
            "670a87daa91c4a3aa17e4ee433ce589e",
            "f7c098e4e3104cf9bb1293bb965e0fbe",
            "a2f753f9d9d142f9abdddad2c2d766c3"
          ]
        }
      },
      "execution_count": 3,
      "outputs": [
        {
          "output_type": "display_data",
          "data": {
            "text/plain": [
              "FloatProgress(value=0.0, layout=Layout(width='auto'), style=ProgressStyle(bar_color='black'))"
            ],
            "application/vnd.jupyter.widget-view+json": {
              "version_major": 2,
              "version_minor": 0,
              "model_id": "670a87daa91c4a3aa17e4ee433ce589e"
            }
          },
          "metadata": {}
        }
      ]
    },
    {
      "cell_type": "markdown",
      "source": [
        "# AI ChatBot\n",
        "\n",
        "-"
      ],
      "metadata": {
        "id": "uFGrjdtDgnhr"
      }
    },
    {
      "cell_type": "code",
      "source": [
        "def execute_sql(sql_query: str, con):\n",
        "    try:\n",
        "        # Replace {s3_path} if not already in the query\n",
        "        result = con.execute(sql_query).fetchall()\n",
        "        return result\n",
        "    except Exception as e:\n",
        "        return f\"Error executing SQL: {str(e)}\"\n",
        "\n",
        "def get_duckdb_connection():\n",
        "    con = duckdb.connect(database=':memory:')  # In-memory for simplicity; use a file path for persistence if needed\n",
        "    con.execute(\"INSTALL httpfs;\")\n",
        "    con.execute(\"LOAD httpfs;\")\n",
        "    # Optional: Set S3 region if needed (public bucket, so usually not required)\n",
        "    # con.execute(\"SET s3_region='us-east-1';\")\n",
        "    return con\n",
        "\n",
        "def get_db_schema(DATA_PATH, columns, duckdb_conn, limit=5):\n",
        "\n",
        "    data_schema = f\"\"\"Columns:\\n\"\"\"\n",
        "\n",
        "    sql_query = f\"SELECT {\",\".join(columns)} FROM read_parquet('{DATA_PATH}') WHERE 1=1\"\n",
        "\n",
        "    for column in columns:\n",
        "        sql_query += f\" AND {column} IS NOT NULL\"\n",
        "\n",
        "    sql_query += f\" LIMIT {limit};\"\n",
        "    sample_result = execute_sql(sql_query, duckdb_conn)\n",
        "\n",
        "    schema_details = execute_sql(f'DESCRIBE {sql_query}', duckdb_conn)\n",
        "\n",
        "    for i, column in enumerate(columns):\n",
        "        data_type = schema_details[i][1]\n",
        "        sample_values = \",\".join([str(r[i]) for r in sample_result])\n",
        "        data_schema += f\"{i+1}. Name: {column} | Data Type: {data_type} | Sample values: {sample_values}\"\n",
        "        data_schema += \"\\n\"\n",
        "    return data_schema"
      ],
      "metadata": {
        "id": "WYQkUDLBhFHQ"
      },
      "execution_count": 41,
      "outputs": []
    },
    {
      "cell_type": "code",
      "source": [
        "duckdb_conn = get_duckdb_connection()\n",
        "\n",
        "DATA_PATH = \"/content/output.geoparquet\"\n",
        "columns = ['name', 'category_level_1', 'category_level_2', 'address', 'region', 'postcode']\n",
        "\n",
        "print(get_db_schema(DATA_PATH, columns, duckdb_conn, limit=10))"
      ],
      "metadata": {
        "id": "BsiVwNy4hXLp",
        "outputId": "6ba1642b-7e74-416e-c25c-43ff7241ed46",
        "colab": {
          "base_uri": "https://localhost:8080/"
        }
      },
      "execution_count": 42,
      "outputs": [
        {
          "output_type": "stream",
          "name": "stdout",
          "text": [
            "Columns:\n",
            "1. Name: name | Data Type: VARCHAR | Sample values: Indane - Boham Gramin Vitrak,Gulf Carstop - Gogoi Automobile,Indane - Wangcha Gas Agency,Axis Bank,Axis Bank ATM,HDFC ERGO Insurance Agent: Partha P Bhattacharjee,HDFC ERGO Insurance Agent: Mintu Roy,HDFC Bank ATM,HDFC Bank,Punjab National Bank\n",
            "2. Name: category_level_1 | Data Type: VARCHAR | Sample values: Travel and Transportation,Retail,Travel and Transportation,Business and Professional Services,Business and Professional Services,Business and Professional Services,Business and Professional Services,Business and Professional Services,Business and Professional Services,Business and Professional Services\n",
            "3. Name: category_level_2 | Data Type: VARCHAR | Sample values: Fuel Station,Automotive Retail,Fuel Station,Financial Service,Financial Service,Financial Service,Financial Service,Financial Service,Financial Service,Financial Service\n",
            "4. Name: address | Data Type: VARCHAR | Sample values: Ground Floor,Ground Floor,Bagh Moria Gaon,Ground Floor,1st Floor, NH 52,1st Floor,NH 52,No E/19,Ground Floor,Roing Circle,Sindu Complex,Sindu Cplx,Pine Plaza,Lower Market\n",
            "5. Name: region | Data Type: VARCHAR | Sample values: Arunachal Pradesh,Assam,Arunachal Pradesh,Arunachal Pradesh,Arunachal Pradesh,Arunachal Pradesh,Arunachal Pradesh,Arunachal Pradesh,Arunachal Pradesh,Arunachal Pradesh\n",
            "6. Name: postcode | Data Type: VARCHAR | Sample values: 792130,785692,792131,791110,791110,792110,792110,792110,792110,792110\n",
            "\n"
          ]
        }
      ]
    }
  ]
}